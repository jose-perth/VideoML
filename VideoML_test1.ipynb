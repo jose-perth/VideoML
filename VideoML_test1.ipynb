{
 "cells": [
  {
   "cell_type": "markdown",
   "metadata": {},
   "source": [
    "# Handling video file in Python"
   ]
  },
  {
   "cell_type": "code",
   "execution_count": 1,
   "metadata": {},
   "outputs": [
    {
     "name": "stderr",
     "output_type": "stream",
     "text": [
      "Using TensorFlow backend.\n"
     ]
    }
   ],
   "source": [
    "import math\n",
    "import cv2\n",
    "import matplotlib.pyplot as plt\n",
    "import pandas as pd\n",
    "import numpy as np\n",
    "\n",
    "from keras.preprocessing import image\n",
    "from keras.utils import np_utils\n",
    "from skimage.transform import resize\n",
    "\n",
    "from keras.applications.vgg16 import preprocess_input\n",
    "from sklearn.model_selection import train_test_split"
   ]
  },
  {
   "cell_type": "markdown",
   "metadata": {},
   "source": [
    "## Use 1st video file to train model, sample 1 frame per second."
   ]
  },
  {
   "cell_type": "code",
   "execution_count": 2,
   "metadata": {},
   "outputs": [],
   "source": [
    "inputFolder = \"./SampleVideo/\"\n",
    "outputFolder = \"./OutputFrames/\""
   ]
  },
  {
   "cell_type": "code",
   "execution_count": 3,
   "metadata": {},
   "outputs": [
    {
     "name": "stdout",
     "output_type": "stream",
     "text": [
      "Frame Rate: 30.0\n",
      "298 frames extracted.\n"
     ]
    }
   ],
   "source": [
    "videoFile = inputFolder + \"Tom and Jerry.mp4\"\n",
    "count = 0\n",
    "# Create handle for video\n",
    "capture = cv2.VideoCapture(videoFile)\n",
    "frameRate = capture.get(5)\n",
    "\n",
    "print(\"Frame Rate:\", frameRate)\n",
    "# Iterate through video and get individual images\n",
    "\n",
    "while(capture.isOpened()):\n",
    "    frameId = capture.get(1)   # frame number\n",
    "    ret, frame = capture.read()\n",
    "    if (ret != True):\n",
    "        break\n",
    "    if (frameId % math.floor(frameRate) == 0):    # extracting 1 frame per second\n",
    "        filename = f'{outputFolder}frame{count:04d}.jpg'\n",
    "        count += 1\n",
    "#        print(\"Save file: \", filename)\n",
    "        cv2.imwrite(filename, frame)\n",
    "capture.release()\n",
    "print(count,\"frames extracted.\")"
   ]
  },
  {
   "cell_type": "markdown",
   "metadata": {},
   "source": [
    "# Labels for images already in CSV file\n",
    "## Classes as follow:\n",
    "0 - neither JERRY nor TOM\n",
    "\n",
    "1 - for JERRY\n",
    "\n",
    "2 - for TOM"
   ]
  },
  {
   "cell_type": "code",
   "execution_count": 4,
   "metadata": {},
   "outputs": [
    {
     "data": {
      "text/html": [
       "<div>\n",
       "<style scoped>\n",
       "    .dataframe tbody tr th:only-of-type {\n",
       "        vertical-align: middle;\n",
       "    }\n",
       "\n",
       "    .dataframe tbody tr th {\n",
       "        vertical-align: top;\n",
       "    }\n",
       "\n",
       "    .dataframe thead th {\n",
       "        text-align: right;\n",
       "    }\n",
       "</style>\n",
       "<table border=\"1\" class=\"dataframe\">\n",
       "  <thead>\n",
       "    <tr style=\"text-align: right;\">\n",
       "      <th></th>\n",
       "      <th>Image_ID</th>\n",
       "      <th>Class</th>\n",
       "    </tr>\n",
       "  </thead>\n",
       "  <tbody>\n",
       "    <tr>\n",
       "      <th>0</th>\n",
       "      <td>frame0000.jpg</td>\n",
       "      <td>1</td>\n",
       "    </tr>\n",
       "    <tr>\n",
       "      <th>1</th>\n",
       "      <td>frame0001.jpg</td>\n",
       "      <td>1</td>\n",
       "    </tr>\n",
       "    <tr>\n",
       "      <th>2</th>\n",
       "      <td>frame0002.jpg</td>\n",
       "      <td>2</td>\n",
       "    </tr>\n",
       "    <tr>\n",
       "      <th>3</th>\n",
       "      <td>frame0003.jpg</td>\n",
       "      <td>2</td>\n",
       "    </tr>\n",
       "    <tr>\n",
       "      <th>4</th>\n",
       "      <td>frame0004.jpg</td>\n",
       "      <td>2</td>\n",
       "    </tr>\n",
       "  </tbody>\n",
       "</table>\n",
       "</div>"
      ],
      "text/plain": [
       "        Image_ID  Class\n",
       "0  frame0000.jpg      1\n",
       "1  frame0001.jpg      1\n",
       "2  frame0002.jpg      2\n",
       "3  frame0003.jpg      2\n",
       "4  frame0004.jpg      2"
      ]
     },
     "execution_count": 4,
     "metadata": {},
     "output_type": "execute_result"
    }
   ],
   "source": [
    "data = pd.read_csv(inputFolder+'mapping.csv')\n",
    "data.head()"
   ]
  },
  {
   "cell_type": "markdown",
   "metadata": {},
   "source": [
    "# Check visualizing a frame"
   ]
  },
  {
   "cell_type": "code",
   "execution_count": 14,
   "metadata": {},
   "outputs": [
    {
     "name": "stdout",
     "output_type": "stream",
     "text": [
      "Class:  2\n"
     ]
    },
    {
     "data": {
      "text/plain": [
       "<matplotlib.image.AxesImage at 0x2cd4ad46308>"
      ]
     },
     "execution_count": 14,
     "metadata": {},
     "output_type": "execute_result"
    },
    {
     "data": {
      "image/png": "[encoded data removed]",
      "text/plain": [
       "<Figure size 432x288 with 1 Axes>"
      ]
     },
     "metadata": {
      "needs_background": "light"
     },
     "output_type": "display_data"
    }
   ],
   "source": [
    "# visualize an image frame\n",
    "frameNumber = 280\n",
    "filename = outputFolder + f'frame{frameNumber:04d}.jpg'\n",
    "img = plt.imread(filename)\n",
    "print('Class: ', data.Class[frameNumber])\n",
    "plt.imshow(img)"
   ]
  },
  {
   "cell_type": "code",
   "execution_count": 9,
   "metadata": {},
   "outputs": [],
   "source": [
    "#  Create array that contains all the frames\n",
    "X = []\n",
    "for i in range(count):\n",
    "    img_name = f'frame{i:04d}.jpg'\n",
    "    img = plt.imread(outputFolder+img_name)\n",
    "    X.append(img)\n",
    "X = np.array(X)"
   ]
  },
  {
   "cell_type": "code",
   "execution_count": 10,
   "metadata": {},
   "outputs": [],
   "source": [
    "y = data.Class\n",
    "# one hot encoding\n",
    "dummy_y = np_utils.to_categorical(y)"
   ]
  },
  {
   "cell_type": "code",
   "execution_count": 17,
   "metadata": {},
   "outputs": [],
   "source": [
    "# resize all the images to 224x224x3 as required by vgg16\n",
    "image = []\n",
    "for i in range(0, X.shape[0]):\n",
    "    a = resize(X[i], preserve_range=True, output_shape=(224,224)).astype(int)\n",
    "    image.append(a)\n",
    "X = np.array(image)"
   ]
  },
  {
   "cell_type": "code",
   "execution_count": 18,
   "metadata": {},
   "outputs": [],
   "source": [
    "# required step\n",
    "# from keras.applications.vgg16 import preprocess_input\n",
    "X = preprocess_input(X, mode='tf')"
   ]
  },
  {
   "cell_type": "code",
   "execution_count": 19,
   "metadata": {},
   "outputs": [],
   "source": [
    "# split train and validation sets\n",
    "X_train, X_validation, y_train, y_validation = train_test_split(X, dummy_y, test_size=0.3, random_state=10)"
   ]
  },
  {
   "cell_type": "code",
   "execution_count": 20,
   "metadata": {},
   "outputs": [
    {
     "data": {
      "text/plain": [
       "(208, 224, 224, 3)"
      ]
     },
     "execution_count": 20,
     "metadata": {},
     "output_type": "execute_result"
    }
   ],
   "source": [
    "X_train.shape"
   ]
  },
  {
   "cell_type": "code",
   "execution_count": 21,
   "metadata": {},
   "outputs": [],
   "source": [
    "from keras.models import Sequential\n",
    "from keras.applications.vgg16 import VGG16\n",
    "from keras.layers import Dense, InputLayer, Dropout"
   ]
  },
  {
   "cell_type": "code",
   "execution_count": 22,
   "metadata": {},
   "outputs": [],
   "source": [
    "# use pretrained model VGG16\n",
    "base_model = VGG16(weights='imagenet', include_top=False, input_shape=(224, 224, 3))   #top layer not included"
   ]
  },
  {
   "cell_type": "code",
   "execution_count": 23,
   "metadata": {},
   "outputs": [],
   "source": [
    "X_train = base_model.predict(X_train)\n",
    "X_validation = base_model.predict(X_validation)\n"
   ]
  },
  {
   "cell_type": "code",
   "execution_count": 24,
   "metadata": {},
   "outputs": [
    {
     "data": {
      "text/plain": [
       "((208, 7, 7, 512), (90, 7, 7, 512))"
      ]
     },
     "execution_count": 24,
     "metadata": {},
     "output_type": "execute_result"
    }
   ],
   "source": [
    "X_train.shape, X_validation.shape"
   ]
  },
  {
   "cell_type": "code",
   "execution_count": 26,
   "metadata": {},
   "outputs": [
    {
     "data": {
      "text/plain": [
       "7"
      ]
     },
     "execution_count": 26,
     "metadata": {},
     "output_type": "execute_result"
    }
   ],
   "source": [
    "X_train.shape[1]"
   ]
  },
  {
   "cell_type": "code",
   "execution_count": 28,
   "metadata": {},
   "outputs": [],
   "source": [
    "# Neural network requires a 1-D shape\n",
    "X_train = X_train.reshape(X_train.shape[0], X_train.shape[1]*X_train.shape[2]*X_train.shape[3])\n",
    "X_validation = X_validation.reshape(X_validation.shape[0], X_validation.shape[1]*X_validation.shape[2]*X_validation.shape[3])"
   ]
  },
  {
   "cell_type": "code",
   "execution_count": 29,
   "metadata": {},
   "outputs": [],
   "source": [
    "# Center the data\n",
    "train_X = X_train / X_train.max()\n",
    "validation_X = X_validation / X_validation.max()"
   ]
  },
  {
   "cell_type": "markdown",
   "metadata": {},
   "source": [
    "# Build and train the model"
   ]
  },
  {
   "cell_type": "code",
   "execution_count": 34,
   "metadata": {},
   "outputs": [
    {
     "name": "stdout",
     "output_type": "stream",
     "text": [
      "Model: \"sequential_5\"\n",
      "_________________________________________________________________\n",
      "Layer (type)                 Output Shape              Param #   \n",
      "=================================================================\n",
      "dense_13 (Dense)             (None, 1024)              25691136  \n",
      "_________________________________________________________________\n",
      "dense_14 (Dense)             (None, 512)               524800    \n",
      "_________________________________________________________________\n",
      "dense_15 (Dense)             (None, 256)               131328    \n",
      "_________________________________________________________________\n",
      "dense_16 (Dense)             (None, 3)                 771       \n",
      "=================================================================\n",
      "Total params: 26,348,035\n",
      "Trainable params: 26,348,035\n",
      "Non-trainable params: 0\n",
      "_________________________________________________________________\n"
     ]
    }
   ],
   "source": [
    "# output layer has 3 neurons as we have 3 classes to predict.\n",
    "model = Sequential()\n",
    "model.add(InputLayer((7*7*512,)))\n",
    "model.add(Dense(units=1024, activation='sigmoid'))\n",
    "#model.add(Dropout(0.5))\n",
    "model.add(Dense(units=512, activation='sigmoid'))\n",
    "model.add(Dense(units=256, activation='sigmoid'))\n",
    "model.add(Dense(3, activation='softmax'))\n",
    "model.summary()"
   ]
  },
  {
   "cell_type": "code",
   "execution_count": 35,
   "metadata": {},
   "outputs": [],
   "source": [
    "model.compile(loss='categorical_crossentropy', optimizer='adam', metrics=['accuracy'])"
   ]
  },
  {
   "cell_type": "code",
   "execution_count": 36,
   "metadata": {},
   "outputs": [
    {
     "name": "stderr",
     "output_type": "stream",
     "text": [
      "C:\\Users\\jvo1\\.conda\\envs\\PythonData\\lib\\site-packages\\sklearn\\utils\\validation.py:70: FutureWarning: Pass classes=[0 1 2], y=0      1\n",
      "1      1\n",
      "2      2\n",
      "3      2\n",
      "4      2\n",
      "      ..\n",
      "293    0\n",
      "294    0\n",
      "295    0\n",
      "296    0\n",
      "297    0\n",
      "Name: Class, Length: 298, dtype: int64 as keyword args. From version 0.25 passing these as positional arguments will result in an error\n",
      "  FutureWarning)\n"
     ]
    }
   ],
   "source": [
    "# add weights as classes are unbalanced\n",
    "from sklearn.utils.class_weight import compute_class_weight, compute_sample_weight\n",
    "class_weights = compute_class_weight('balanced', np.unique(data.Class), data.Class)"
   ]
  },
  {
   "cell_type": "code",
   "execution_count": 39,
   "metadata": {},
   "outputs": [],
   "source": [
    "from keras.callbacks import ModelCheckpoint\n",
    "filepath = \"best_model.hdf5\"\n",
    "checkpoint = ModelCheckpoint(filepath, monitor='val_loss', verbose=1, save_best_only=True, mode='min')\n",
    "callbacks_list = [checkpoint]"
   ]
  },
  {
   "cell_type": "code",
   "execution_count": 40,
   "metadata": {},
   "outputs": [
    {
     "name": "stdout",
     "output_type": "stream",
     "text": [
      "Train on 208 samples, validate on 90 samples\n",
      "Epoch 1/100\n",
      "208/208 [==============================] - 2s 9ms/step - loss: 1.3535 - accuracy: 0.3798 - val_loss: 1.1544 - val_accuracy: 0.5889\n",
      "\n",
      "Epoch 00001: val_loss improved from inf to 1.15440, saving model to best_model.hdf5\n",
      "Epoch 2/100\n",
      "208/208 [==============================] - 2s 8ms/step - loss: 1.0789 - accuracy: 0.4471 - val_loss: 1.0052 - val_accuracy: 0.4556\n",
      "\n",
      "Epoch 00002: val_loss improved from 1.15440 to 1.00516, saving model to best_model.hdf5\n",
      "Epoch 3/100\n",
      "208/208 [==============================] - 2s 8ms/step - loss: 1.0313 - accuracy: 0.4471 - val_loss: 0.8122 - val_accuracy: 0.6000\n",
      "\n",
      "Epoch 00003: val_loss improved from 1.00516 to 0.81220, saving model to best_model.hdf5\n",
      "Epoch 4/100\n",
      "208/208 [==============================] - 2s 8ms/step - loss: 0.9092 - accuracy: 0.5769 - val_loss: 0.6575 - val_accuracy: 0.7667\n",
      "\n",
      "Epoch 00004: val_loss improved from 0.81220 to 0.65751, saving model to best_model.hdf5\n",
      "Epoch 5/100\n",
      "208/208 [==============================] - 2s 8ms/step - loss: 0.7195 - accuracy: 0.8029 - val_loss: 0.5214 - val_accuracy: 0.8556\n",
      "\n",
      "Epoch 00005: val_loss improved from 0.65751 to 0.52139, saving model to best_model.hdf5\n",
      "Epoch 6/100\n",
      "208/208 [==============================] - 2s 8ms/step - loss: 0.5118 - accuracy: 0.8365 - val_loss: 0.3415 - val_accuracy: 0.8667\n",
      "\n",
      "Epoch 00006: val_loss improved from 0.52139 to 0.34148, saving model to best_model.hdf5\n",
      "Epoch 7/100\n",
      "208/208 [==============================] - 2s 8ms/step - loss: 0.3468 - accuracy: 0.8942 - val_loss: 0.2423 - val_accuracy: 0.9111\n",
      "\n",
      "Epoch 00007: val_loss improved from 0.34148 to 0.24234, saving model to best_model.hdf5\n",
      "Epoch 8/100\n",
      "208/208 [==============================] - 2s 8ms/step - loss: 0.1906 - accuracy: 0.9327 - val_loss: 0.1725 - val_accuracy: 0.9333\n",
      "\n",
      "Epoch 00008: val_loss improved from 0.24234 to 0.17245, saving model to best_model.hdf5\n",
      "Epoch 9/100\n",
      "208/208 [==============================] - 2s 8ms/step - loss: 0.0942 - accuracy: 1.0000 - val_loss: 0.2218 - val_accuracy: 0.9333\n",
      "\n",
      "Epoch 00009: val_loss did not improve from 0.17245\n",
      "Epoch 10/100\n",
      "208/208 [==============================] - 2s 8ms/step - loss: 0.0571 - accuracy: 0.9952 - val_loss: 0.1281 - val_accuracy: 0.9444\n",
      "\n",
      "Epoch 00010: val_loss improved from 0.17245 to 0.12808, saving model to best_model.hdf5\n",
      "Epoch 11/100\n",
      "208/208 [==============================] - 2s 8ms/step - loss: 0.0266 - accuracy: 1.0000 - val_loss: 0.1372 - val_accuracy: 0.9667\n",
      "\n",
      "Epoch 00011: val_loss did not improve from 0.12808\n",
      "Epoch 12/100\n",
      "208/208 [==============================] - 2s 8ms/step - loss: 0.0124 - accuracy: 1.0000 - val_loss: 0.1167 - val_accuracy: 0.9667\n",
      "\n",
      "Epoch 00012: val_loss improved from 0.12808 to 0.11667, saving model to best_model.hdf5\n",
      "Epoch 13/100\n",
      "208/208 [==============================] - 2s 8ms/step - loss: 0.0091 - accuracy: 1.0000 - val_loss: 0.1148 - val_accuracy: 0.9667\n",
      "\n",
      "Epoch 00013: val_loss improved from 0.11667 to 0.11484, saving model to best_model.hdf5\n",
      "Epoch 14/100\n",
      "208/208 [==============================] - 2s 8ms/step - loss: 0.0066 - accuracy: 1.0000 - val_loss: 0.1264 - val_accuracy: 0.9556\n",
      "\n",
      "Epoch 00014: val_loss did not improve from 0.11484\n",
      "Epoch 15/100\n",
      "208/208 [==============================] - 2s 8ms/step - loss: 0.0055 - accuracy: 1.0000 - val_loss: 0.1336 - val_accuracy: 0.9556\n",
      "\n",
      "Epoch 00015: val_loss did not improve from 0.11484\n",
      "Epoch 16/100\n",
      "208/208 [==============================] - 2s 8ms/step - loss: 0.0047 - accuracy: 1.0000 - val_loss: 0.1254 - val_accuracy: 0.9667\n",
      "\n",
      "Epoch 00016: val_loss did not improve from 0.11484\n",
      "Epoch 17/100\n",
      "208/208 [==============================] - 2s 8ms/step - loss: 0.0041 - accuracy: 1.0000 - val_loss: 0.1275 - val_accuracy: 0.9667\n",
      "\n",
      "Epoch 00017: val_loss did not improve from 0.11484\n",
      "Epoch 18/100\n",
      "208/208 [==============================] - 2s 8ms/step - loss: 0.0037 - accuracy: 1.0000 - val_loss: 0.1295 - val_accuracy: 0.9667\n",
      "\n",
      "Epoch 00018: val_loss did not improve from 0.11484\n",
      "Epoch 19/100\n",
      "208/208 [==============================] - 2s 8ms/step - loss: 0.0034 - accuracy: 1.0000 - val_loss: 0.1323 - val_accuracy: 0.9667\n",
      "\n",
      "Epoch 00019: val_loss did not improve from 0.11484\n",
      "Epoch 20/100\n",
      "208/208 [==============================] - 2s 8ms/step - loss: 0.0031 - accuracy: 1.0000 - val_loss: 0.1355 - val_accuracy: 0.9667\n",
      "\n",
      "Epoch 00020: val_loss did not improve from 0.11484\n",
      "Epoch 21/100\n",
      "208/208 [==============================] - 2s 8ms/step - loss: 0.0029 - accuracy: 1.0000 - val_loss: 0.1350 - val_accuracy: 0.9667\n",
      "\n",
      "Epoch 00021: val_loss did not improve from 0.11484\n",
      "Epoch 22/100\n",
      "208/208 [==============================] - 2s 8ms/step - loss: 0.0027 - accuracy: 1.0000 - val_loss: 0.1356 - val_accuracy: 0.9667\n",
      "\n",
      "Epoch 00022: val_loss did not improve from 0.11484\n",
      "Epoch 23/100\n",
      "208/208 [==============================] - 2s 8ms/step - loss: 0.0026 - accuracy: 1.0000 - val_loss: 0.1374 - val_accuracy: 0.9667\n",
      "\n",
      "Epoch 00023: val_loss did not improve from 0.11484\n",
      "Epoch 24/100\n",
      "208/208 [==============================] - 2s 8ms/step - loss: 0.0024 - accuracy: 1.0000 - val_loss: 0.1402 - val_accuracy: 0.9667\n",
      "\n",
      "Epoch 00024: val_loss did not improve from 0.11484\n",
      "Epoch 25/100\n",
      "208/208 [==============================] - 2s 8ms/step - loss: 0.0023 - accuracy: 1.0000 - val_loss: 0.1422 - val_accuracy: 0.9667\n",
      "\n",
      "Epoch 00025: val_loss did not improve from 0.11484\n",
      "Epoch 26/100\n",
      "208/208 [==============================] - 2s 8ms/step - loss: 0.0021 - accuracy: 1.0000 - val_loss: 0.1425 - val_accuracy: 0.9667\n",
      "\n",
      "Epoch 00026: val_loss did not improve from 0.11484\n",
      "Epoch 27/100\n",
      "208/208 [==============================] - 2s 8ms/step - loss: 0.0020 - accuracy: 1.0000 - val_loss: 0.1437 - val_accuracy: 0.9667\n",
      "\n",
      "Epoch 00027: val_loss did not improve from 0.11484\n",
      "Epoch 28/100\n",
      "208/208 [==============================] - 2s 8ms/step - loss: 0.0019 - accuracy: 1.0000 - val_loss: 0.1451 - val_accuracy: 0.9667\n",
      "\n",
      "Epoch 00028: val_loss did not improve from 0.11484\n",
      "Epoch 29/100\n",
      "208/208 [==============================] - 2s 8ms/step - loss: 0.0018 - accuracy: 1.0000 - val_loss: 0.1460 - val_accuracy: 0.9667\n",
      "\n",
      "Epoch 00029: val_loss did not improve from 0.11484\n",
      "Epoch 30/100\n",
      "208/208 [==============================] - 2s 8ms/step - loss: 0.0017 - accuracy: 1.0000 - val_loss: 0.1477 - val_accuracy: 0.9667\n",
      "\n",
      "Epoch 00030: val_loss did not improve from 0.11484\n",
      "Epoch 31/100\n",
      "208/208 [==============================] - 2s 8ms/step - loss: 0.0017 - accuracy: 1.0000 - val_loss: 0.1491 - val_accuracy: 0.9667\n",
      "\n",
      "Epoch 00031: val_loss did not improve from 0.11484\n",
      "Epoch 32/100\n",
      "208/208 [==============================] - 2s 8ms/step - loss: 0.0016 - accuracy: 1.0000 - val_loss: 0.1497 - val_accuracy: 0.9667\n",
      "\n",
      "Epoch 00032: val_loss did not improve from 0.11484\n",
      "Epoch 33/100\n",
      "208/208 [==============================] - 2s 8ms/step - loss: 0.0015 - accuracy: 1.0000 - val_loss: 0.1512 - val_accuracy: 0.9667\n",
      "\n",
      "Epoch 00033: val_loss did not improve from 0.11484\n",
      "Epoch 34/100\n",
      "208/208 [==============================] - 2s 8ms/step - loss: 0.0015 - accuracy: 1.0000 - val_loss: 0.1525 - val_accuracy: 0.9667\n",
      "\n",
      "Epoch 00034: val_loss did not improve from 0.11484\n",
      "Epoch 35/100\n",
      "208/208 [==============================] - 2s 8ms/step - loss: 0.0014 - accuracy: 1.0000 - val_loss: 0.1535 - val_accuracy: 0.9667\n",
      "\n",
      "Epoch 00035: val_loss did not improve from 0.11484\n",
      "Epoch 36/100\n",
      "208/208 [==============================] - 2s 8ms/step - loss: 0.0013 - accuracy: 1.0000 - val_loss: 0.1538 - val_accuracy: 0.9667\n",
      "\n",
      "Epoch 00036: val_loss did not improve from 0.11484\n",
      "Epoch 37/100\n",
      "208/208 [==============================] - 2s 8ms/step - loss: 0.0013 - accuracy: 1.0000 - val_loss: 0.1546 - val_accuracy: 0.9667\n",
      "\n",
      "Epoch 00037: val_loss did not improve from 0.11484\n",
      "Epoch 38/100\n",
      "208/208 [==============================] - 2s 8ms/step - loss: 0.0012 - accuracy: 1.0000 - val_loss: 0.1564 - val_accuracy: 0.9667\n",
      "\n",
      "Epoch 00038: val_loss did not improve from 0.11484\n",
      "Epoch 39/100\n",
      "208/208 [==============================] - 2s 8ms/step - loss: 0.0012 - accuracy: 1.0000 - val_loss: 0.1569 - val_accuracy: 0.9667\n",
      "\n",
      "Epoch 00039: val_loss did not improve from 0.11484\n",
      "Epoch 40/100\n",
      "208/208 [==============================] - 2s 8ms/step - loss: 0.0012 - accuracy: 1.0000 - val_loss: 0.1580 - val_accuracy: 0.9667\n"
     ]
    },
    {
     "name": "stdout",
     "output_type": "stream",
     "text": [
      "\n",
      "Epoch 00040: val_loss did not improve from 0.11484\n",
      "Epoch 41/100\n",
      "208/208 [==============================] - 2s 8ms/step - loss: 0.0011 - accuracy: 1.0000 - val_loss: 0.1592 - val_accuracy: 0.9667\n",
      "\n",
      "Epoch 00041: val_loss did not improve from 0.11484\n",
      "Epoch 42/100\n",
      "208/208 [==============================] - 2s 8ms/step - loss: 0.0011 - accuracy: 1.0000 - val_loss: 0.1599 - val_accuracy: 0.9667\n",
      "\n",
      "Epoch 00042: val_loss did not improve from 0.11484\n",
      "Epoch 43/100\n",
      "208/208 [==============================] - 2s 8ms/step - loss: 0.0010 - accuracy: 1.0000 - val_loss: 0.1600 - val_accuracy: 0.9667\n",
      "\n",
      "Epoch 00043: val_loss did not improve from 0.11484\n",
      "Epoch 44/100\n",
      "208/208 [==============================] - 2s 8ms/step - loss: 0.0010 - accuracy: 1.0000 - val_loss: 0.1605 - val_accuracy: 0.9667\n",
      "\n",
      "Epoch 00044: val_loss did not improve from 0.11484\n",
      "Epoch 45/100\n",
      "208/208 [==============================] - 2s 8ms/step - loss: 9.8510e-04 - accuracy: 1.0000 - val_loss: 0.1614 - val_accuracy: 0.9667\n",
      "\n",
      "Epoch 00045: val_loss did not improve from 0.11484\n",
      "Epoch 46/100\n",
      "208/208 [==============================] - 2s 8ms/step - loss: 9.5453e-04 - accuracy: 1.0000 - val_loss: 0.1627 - val_accuracy: 0.9667\n",
      "\n",
      "Epoch 00046: val_loss did not improve from 0.11484\n",
      "Epoch 47/100\n",
      "208/208 [==============================] - 2s 8ms/step - loss: 9.2730e-04 - accuracy: 1.0000 - val_loss: 0.1639 - val_accuracy: 0.9667\n",
      "\n",
      "Epoch 00047: val_loss did not improve from 0.11484\n",
      "Epoch 48/100\n",
      "208/208 [==============================] - 2s 8ms/step - loss: 8.9911e-04 - accuracy: 1.0000 - val_loss: 0.1646 - val_accuracy: 0.9667\n",
      "\n",
      "Epoch 00048: val_loss did not improve from 0.11484\n",
      "Epoch 49/100\n",
      "208/208 [==============================] - 2s 8ms/step - loss: 8.7702e-04 - accuracy: 1.0000 - val_loss: 0.1648 - val_accuracy: 0.9667\n",
      "\n",
      "Epoch 00049: val_loss did not improve from 0.11484\n",
      "Epoch 50/100\n",
      "208/208 [==============================] - 2s 8ms/step - loss: 8.5062e-04 - accuracy: 1.0000 - val_loss: 0.1668 - val_accuracy: 0.9667\n",
      "\n",
      "Epoch 00050: val_loss did not improve from 0.11484\n",
      "Epoch 51/100\n",
      "208/208 [==============================] - 2s 8ms/step - loss: 8.2700e-04 - accuracy: 1.0000 - val_loss: 0.1677 - val_accuracy: 0.9667\n",
      "\n",
      "Epoch 00051: val_loss did not improve from 0.11484\n",
      "Epoch 52/100\n",
      "208/208 [==============================] - 2s 8ms/step - loss: 8.0468e-04 - accuracy: 1.0000 - val_loss: 0.1683 - val_accuracy: 0.9667\n",
      "\n",
      "Epoch 00052: val_loss did not improve from 0.11484\n",
      "Epoch 53/100\n",
      "208/208 [==============================] - 2s 8ms/step - loss: 7.8390e-04 - accuracy: 1.0000 - val_loss: 0.1683 - val_accuracy: 0.9667\n",
      "\n",
      "Epoch 00053: val_loss did not improve from 0.11484\n",
      "Epoch 54/100\n",
      "208/208 [==============================] - 2s 8ms/step - loss: 7.6275e-04 - accuracy: 1.0000 - val_loss: 0.1687 - val_accuracy: 0.9667\n",
      "\n",
      "Epoch 00054: val_loss did not improve from 0.11484\n",
      "Epoch 55/100\n",
      "208/208 [==============================] - 2s 8ms/step - loss: 7.4356e-04 - accuracy: 1.0000 - val_loss: 0.1688 - val_accuracy: 0.9667\n",
      "\n",
      "Epoch 00055: val_loss did not improve from 0.11484\n",
      "Epoch 56/100\n",
      "208/208 [==============================] - 2s 8ms/step - loss: 7.2496e-04 - accuracy: 1.0000 - val_loss: 0.1697 - val_accuracy: 0.9667\n",
      "\n",
      "Epoch 00056: val_loss did not improve from 0.11484\n",
      "Epoch 57/100\n",
      "208/208 [==============================] - 2s 8ms/step - loss: 7.0737e-04 - accuracy: 1.0000 - val_loss: 0.1701 - val_accuracy: 0.9667\n",
      "\n",
      "Epoch 00057: val_loss did not improve from 0.11484\n",
      "Epoch 58/100\n",
      "208/208 [==============================] - 2s 8ms/step - loss: 6.8939e-04 - accuracy: 1.0000 - val_loss: 0.1709 - val_accuracy: 0.9667\n",
      "\n",
      "Epoch 00058: val_loss did not improve from 0.11484\n",
      "Epoch 59/100\n",
      "208/208 [==============================] - 2s 8ms/step - loss: 6.7393e-04 - accuracy: 1.0000 - val_loss: 0.1721 - val_accuracy: 0.9667\n",
      "\n",
      "Epoch 00059: val_loss did not improve from 0.11484\n",
      "Epoch 60/100\n",
      "208/208 [==============================] - 2s 8ms/step - loss: 6.5747e-04 - accuracy: 1.0000 - val_loss: 0.1729 - val_accuracy: 0.9667\n",
      "\n",
      "Epoch 00060: val_loss did not improve from 0.11484\n",
      "Epoch 61/100\n",
      "208/208 [==============================] - 2s 8ms/step - loss: 6.4270e-04 - accuracy: 1.0000 - val_loss: 0.1743 - val_accuracy: 0.9667\n",
      "\n",
      "Epoch 00061: val_loss did not improve from 0.11484\n",
      "Epoch 62/100\n",
      "208/208 [==============================] - 2s 8ms/step - loss: 6.2784e-04 - accuracy: 1.0000 - val_loss: 0.1751 - val_accuracy: 0.9667\n",
      "\n",
      "Epoch 00062: val_loss did not improve from 0.11484\n",
      "Epoch 63/100\n",
      "208/208 [==============================] - 2s 8ms/step - loss: 6.1421e-04 - accuracy: 1.0000 - val_loss: 0.1753 - val_accuracy: 0.9667\n",
      "\n",
      "Epoch 00063: val_loss did not improve from 0.11484\n",
      "Epoch 64/100\n",
      "208/208 [==============================] - 2s 8ms/step - loss: 6.0072e-04 - accuracy: 1.0000 - val_loss: 0.1754 - val_accuracy: 0.9667\n",
      "\n",
      "Epoch 00064: val_loss did not improve from 0.11484\n",
      "Epoch 65/100\n",
      "208/208 [==============================] - 2s 8ms/step - loss: 5.8752e-04 - accuracy: 1.0000 - val_loss: 0.1764 - val_accuracy: 0.9667\n",
      "\n",
      "Epoch 00065: val_loss did not improve from 0.11484\n",
      "Epoch 66/100\n",
      "208/208 [==============================] - 2s 8ms/step - loss: 5.7560e-04 - accuracy: 1.0000 - val_loss: 0.1776 - val_accuracy: 0.9667\n",
      "\n",
      "Epoch 00066: val_loss did not improve from 0.11484\n",
      "Epoch 67/100\n",
      "208/208 [==============================] - 2s 8ms/step - loss: 5.6260e-04 - accuracy: 1.0000 - val_loss: 0.1779 - val_accuracy: 0.9667\n",
      "\n",
      "Epoch 00067: val_loss did not improve from 0.11484\n",
      "Epoch 68/100\n",
      "208/208 [==============================] - 2s 8ms/step - loss: 5.5148e-04 - accuracy: 1.0000 - val_loss: 0.1776 - val_accuracy: 0.9667\n",
      "\n",
      "Epoch 00068: val_loss did not improve from 0.11484\n",
      "Epoch 69/100\n",
      "208/208 [==============================] - 2s 8ms/step - loss: 5.3983e-04 - accuracy: 1.0000 - val_loss: 0.1781 - val_accuracy: 0.9667\n",
      "\n",
      "Epoch 00069: val_loss did not improve from 0.11484\n",
      "Epoch 70/100\n",
      "208/208 [==============================] - 2s 8ms/step - loss: 5.2913e-04 - accuracy: 1.0000 - val_loss: 0.1789 - val_accuracy: 0.9667\n",
      "\n",
      "Epoch 00070: val_loss did not improve from 0.11484\n",
      "Epoch 71/100\n",
      "208/208 [==============================] - 2s 8ms/step - loss: 5.1845e-04 - accuracy: 1.0000 - val_loss: 0.1792 - val_accuracy: 0.9667\n",
      "\n",
      "Epoch 00071: val_loss did not improve from 0.11484\n",
      "Epoch 72/100\n",
      "208/208 [==============================] - 2s 8ms/step - loss: 5.0850e-04 - accuracy: 1.0000 - val_loss: 0.1794 - val_accuracy: 0.9667\n",
      "\n",
      "Epoch 00072: val_loss did not improve from 0.11484\n",
      "Epoch 73/100\n",
      "208/208 [==============================] - 2s 8ms/step - loss: 4.9856e-04 - accuracy: 1.0000 - val_loss: 0.1804 - val_accuracy: 0.9667\n",
      "\n",
      "Epoch 00073: val_loss did not improve from 0.11484\n",
      "Epoch 74/100\n",
      "208/208 [==============================] - 2s 8ms/step - loss: 4.8942e-04 - accuracy: 1.0000 - val_loss: 0.1807 - val_accuracy: 0.9667\n",
      "\n",
      "Epoch 00074: val_loss did not improve from 0.11484\n",
      "Epoch 75/100\n",
      "208/208 [==============================] - 2s 8ms/step - loss: 4.7992e-04 - accuracy: 1.0000 - val_loss: 0.1817 - val_accuracy: 0.9667\n",
      "\n",
      "Epoch 00075: val_loss did not improve from 0.11484\n",
      "Epoch 76/100\n",
      "208/208 [==============================] - 2s 8ms/step - loss: 4.7094e-04 - accuracy: 1.0000 - val_loss: 0.1822 - val_accuracy: 0.9667\n",
      "\n",
      "Epoch 00076: val_loss did not improve from 0.11484\n",
      "Epoch 77/100\n",
      "208/208 [==============================] - 2s 8ms/step - loss: 4.6239e-04 - accuracy: 1.0000 - val_loss: 0.1830 - val_accuracy: 0.9667\n",
      "\n",
      "Epoch 00077: val_loss did not improve from 0.11484\n",
      "Epoch 78/100\n",
      "208/208 [==============================] - 2s 8ms/step - loss: 4.5401e-04 - accuracy: 1.0000 - val_loss: 0.1836 - val_accuracy: 0.9667\n",
      "\n",
      "Epoch 00078: val_loss did not improve from 0.11484\n",
      "Epoch 79/100\n",
      "208/208 [==============================] - 2s 8ms/step - loss: 4.4656e-04 - accuracy: 1.0000 - val_loss: 0.1846 - val_accuracy: 0.9667\n",
      "\n",
      "Epoch 00079: val_loss did not improve from 0.11484\n",
      "Epoch 80/100\n",
      "208/208 [==============================] - 2s 8ms/step - loss: 4.3845e-04 - accuracy: 1.0000 - val_loss: 0.1848 - val_accuracy: 0.9667\n",
      "\n",
      "Epoch 00080: val_loss did not improve from 0.11484\n",
      "Epoch 81/100\n",
      "208/208 [==============================] - 2s 8ms/step - loss: 4.3067e-04 - accuracy: 1.0000 - val_loss: 0.1858 - val_accuracy: 0.9556\n",
      "\n",
      "Epoch 00081: val_loss did not improve from 0.11484\n",
      "Epoch 82/100\n"
     ]
    },
    {
     "name": "stdout",
     "output_type": "stream",
     "text": [
      "208/208 [==============================] - 2s 8ms/step - loss: 4.2336e-04 - accuracy: 1.0000 - val_loss: 0.1862 - val_accuracy: 0.9556\n",
      "\n",
      "Epoch 00082: val_loss did not improve from 0.11484\n",
      "Epoch 83/100\n",
      "208/208 [==============================] - 2s 8ms/step - loss: 4.1668e-04 - accuracy: 1.0000 - val_loss: 0.1864 - val_accuracy: 0.9556\n",
      "\n",
      "Epoch 00083: val_loss did not improve from 0.11484\n",
      "Epoch 84/100\n",
      "208/208 [==============================] - 2s 8ms/step - loss: 4.0938e-04 - accuracy: 1.0000 - val_loss: 0.1875 - val_accuracy: 0.9556\n",
      "\n",
      "Epoch 00084: val_loss did not improve from 0.11484\n",
      "Epoch 85/100\n",
      "208/208 [==============================] - 2s 8ms/step - loss: 4.0249e-04 - accuracy: 1.0000 - val_loss: 0.1883 - val_accuracy: 0.9556\n",
      "\n",
      "Epoch 00085: val_loss did not improve from 0.11484\n",
      "Epoch 86/100\n",
      "208/208 [==============================] - 2s 8ms/step - loss: 3.9620e-04 - accuracy: 1.0000 - val_loss: 0.1881 - val_accuracy: 0.9556\n",
      "\n",
      "Epoch 00086: val_loss did not improve from 0.11484\n",
      "Epoch 87/100\n",
      "208/208 [==============================] - 2s 8ms/step - loss: 3.8961e-04 - accuracy: 1.0000 - val_loss: 0.1880 - val_accuracy: 0.9667\n",
      "\n",
      "Epoch 00087: val_loss did not improve from 0.11484\n",
      "Epoch 88/100\n",
      "208/208 [==============================] - 2s 8ms/step - loss: 3.8317e-04 - accuracy: 1.0000 - val_loss: 0.1885 - val_accuracy: 0.9556\n",
      "\n",
      "Epoch 00088: val_loss did not improve from 0.11484\n",
      "Epoch 89/100\n",
      "208/208 [==============================] - 2s 8ms/step - loss: 3.7733e-04 - accuracy: 1.0000 - val_loss: 0.1887 - val_accuracy: 0.9667\n",
      "\n",
      "Epoch 00089: val_loss did not improve from 0.11484\n",
      "Epoch 90/100\n",
      "208/208 [==============================] - 2s 8ms/step - loss: 3.7111e-04 - accuracy: 1.0000 - val_loss: 0.1897 - val_accuracy: 0.9556\n",
      "\n",
      "Epoch 00090: val_loss did not improve from 0.11484\n",
      "Epoch 91/100\n",
      "208/208 [==============================] - 2s 8ms/step - loss: 3.6544e-04 - accuracy: 1.0000 - val_loss: 0.1905 - val_accuracy: 0.9556\n",
      "\n",
      "Epoch 00091: val_loss did not improve from 0.11484\n",
      "Epoch 92/100\n",
      "208/208 [==============================] - 2s 8ms/step - loss: 3.5964e-04 - accuracy: 1.0000 - val_loss: 0.1910 - val_accuracy: 0.9556\n",
      "\n",
      "Epoch 00092: val_loss did not improve from 0.11484\n",
      "Epoch 93/100\n",
      "208/208 [==============================] - 2s 8ms/step - loss: 3.5419e-04 - accuracy: 1.0000 - val_loss: 0.1919 - val_accuracy: 0.9556\n",
      "\n",
      "Epoch 00093: val_loss did not improve from 0.11484\n",
      "Epoch 94/100\n",
      "208/208 [==============================] - 2s 8ms/step - loss: 3.4898e-04 - accuracy: 1.0000 - val_loss: 0.1928 - val_accuracy: 0.9556\n",
      "\n",
      "Epoch 00094: val_loss did not improve from 0.11484\n",
      "Epoch 95/100\n",
      "208/208 [==============================] - 2s 9ms/step - loss: 3.4366e-04 - accuracy: 1.0000 - val_loss: 0.1936 - val_accuracy: 0.9556\n",
      "\n",
      "Epoch 00095: val_loss did not improve from 0.11484\n",
      "Epoch 96/100\n",
      "208/208 [==============================] - 2s 9ms/step - loss: 3.3872e-04 - accuracy: 1.0000 - val_loss: 0.1941 - val_accuracy: 0.9556\n",
      "\n",
      "Epoch 00096: val_loss did not improve from 0.11484\n",
      "Epoch 97/100\n",
      "208/208 [==============================] - 2s 8ms/step - loss: 3.3370e-04 - accuracy: 1.0000 - val_loss: 0.1949 - val_accuracy: 0.9556\n",
      "\n",
      "Epoch 00097: val_loss did not improve from 0.11484\n",
      "Epoch 98/100\n",
      "208/208 [==============================] - 2s 8ms/step - loss: 3.2903e-04 - accuracy: 1.0000 - val_loss: 0.1953 - val_accuracy: 0.9556\n",
      "\n",
      "Epoch 00098: val_loss did not improve from 0.11484\n",
      "Epoch 99/100\n",
      "208/208 [==============================] - 2s 9ms/step - loss: 3.2424e-04 - accuracy: 1.0000 - val_loss: 0.1953 - val_accuracy: 0.9556\n",
      "\n",
      "Epoch 00099: val_loss did not improve from 0.11484\n",
      "Epoch 100/100\n",
      "208/208 [==============================] - 2s 8ms/step - loss: 3.1977e-04 - accuracy: 1.0000 - val_loss: 0.1953 - val_accuracy: 0.9556\n",
      "\n",
      "Epoch 00100: val_loss did not improve from 0.11484\n"
     ]
    },
    {
     "data": {
      "text/plain": [
       "<keras.callbacks.callbacks.History at 0x2cd5b063f08>"
      ]
     },
     "execution_count": 40,
     "metadata": {},
     "output_type": "execute_result"
    }
   ],
   "source": [
    "model.fit(train_X, y_train, epochs=100, validation_data=(X_validation, y_validation), class_weight=class_weights, callbacks=callbacks_list)"
   ]
  },
  {
   "cell_type": "code",
   "execution_count": 41,
   "metadata": {},
   "outputs": [],
   "source": [
    "model.load_weights(\"best_model.hdf5\")\n",
    "model.compile(loss='categorical_crossentropy', optimizer='adam', metrics=['accuracy'])"
   ]
  },
  {
   "cell_type": "markdown",
   "metadata": {},
   "source": [
    "# Now apply model to another video"
   ]
  },
  {
   "cell_type": "code",
   "execution_count": 42,
   "metadata": {},
   "outputs": [
    {
     "name": "stdout",
     "output_type": "stream",
     "text": [
      "Frame Rate: 29.97002997002997\n",
      "186 frames extracted.\n"
     ]
    }
   ],
   "source": [
    "videoFile = inputFolder + \"Tom and Jerry 3.mp4\"\n",
    "outputFolder =  \"./OutputFramesTest/\"\n",
    "count = 0\n",
    "# Create handle for video\n",
    "capture = cv2.VideoCapture(videoFile)\n",
    "frameRate = capture.get(5)\n",
    "\n",
    "print(\"Frame Rate:\", frameRate)\n",
    "# Iterate through video and get individual images\n",
    "while(capture.isOpened()):\n",
    "    frameId = capture.get(1)   # frame number\n",
    "    ret, frame = capture.read()\n",
    "    if (ret != True):\n",
    "        break\n",
    "    if (frameId % math.floor(frameRate) == 0):    # extracting 1 frame per second\n",
    "        filename = f'{outputFolder}frame{count:04d}.jpg'\n",
    "#        print(ret, frameId)\n",
    "        count += 1\n",
    "#        print(\"Save file: \", filename)\n",
    "        cv2.imwrite(filename, frame)\n",
    "capture.release()\n",
    "print(count,\"frames extracted.\")"
   ]
  },
  {
   "cell_type": "code",
   "execution_count": 43,
   "metadata": {},
   "outputs": [],
   "source": [
    "test_image = []\n",
    "for i in range(count):\n",
    "    img_name = f'{outputFolder}frame{i:04d}.jpg'\n",
    "    img = plt.imread(''+img_name)\n",
    "    test_image.append(img)\n",
    "test_img = np.array(test_image)"
   ]
  },
  {
   "cell_type": "code",
   "execution_count": 44,
   "metadata": {},
   "outputs": [],
   "source": [
    "test_image = []\n",
    "for i in range(0,test_img.shape[0]):\n",
    "    a = resize(test_img[i], preserve_range=True, output_shape=(224,224)).astype(int)\n",
    "    test_image.append(a)\n",
    "test_img = np.array(test_image)"
   ]
  },
  {
   "cell_type": "code",
   "execution_count": 45,
   "metadata": {},
   "outputs": [],
   "source": [
    "# preprocess the images\n",
    "test_img = preprocess_input(test_img, mode='tf')\n",
    "test_img = base_model.predict(test_img)\n",
    "test_img = test_img.reshape(186, 7*7*512)\n",
    "test_img = test_img / test_img.max()"
   ]
  },
  {
   "cell_type": "code",
   "execution_count": 46,
   "metadata": {},
   "outputs": [],
   "source": [
    "# predict using model trained with previous video\n",
    "test_prediction = model.predict_classes(test_img)"
   ]
  },
  {
   "cell_type": "code",
   "execution_count": 47,
   "metadata": {},
   "outputs": [
    {
     "name": "stdout",
     "output_type": "stream",
     "text": [
      "Screen time for Jerry is  11  seconds\n",
      "Screen time for Tom is  115  seconds\n"
     ]
    }
   ],
   "source": [
    "print('Screen time for Jerry is ', test_prediction[test_prediction==1].shape[0],' seconds')\n",
    "print('Screen time for Tom is ', test_prediction[test_prediction==2].shape[0],' seconds')"
   ]
  },
  {
   "cell_type": "code",
   "execution_count": null,
   "metadata": {},
   "outputs": [],
   "source": [
    "#scores = model.evaluate(test_img, te"
   ]
  },
  {
   "cell_type": "code",
   "execution_count": null,
   "metadata": {},
   "outputs": [],
   "source": []
  }
 ],
 "metadata": {
  "kernelspec": {
   "display_name": "PythonData",
   "language": "python",
   "name": "pythondata"
  },
  "language_info": {
   "codemirror_mode": {
    "name": "ipython",
    "version": 3
   },
   "file_extension": ".py",
   "mimetype": "text/x-python",
   "name": "python",
   "nbconvert_exporter": "python",
   "pygments_lexer": "ipython3",
   "version": "3.7.9"
  }
 },
 "nbformat": 4,
 "nbformat_minor": 4
}
